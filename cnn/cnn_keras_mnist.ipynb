{
 "cells": [
  {
   "cell_type": "markdown",
   "metadata": {},
   "source": [
    "# CNN with Keras \n",
    "\n",
    "## Import Library and Load MNIST Data"
   ]
  },
  {
   "cell_type": "code",
   "execution_count": 2,
   "metadata": {},
   "outputs": [],
   "source": [
    "import keras\n",
    "from keras.datasets import mnist\n",
    "from keras.layers import Dense, Flatten\n",
    "from keras.layers import Conv2D, MaxPooling2D\n",
    "from keras.models import Sequential\n",
    "import matplotlib.pylab as plt"
   ]
  },
  {
   "cell_type": "code",
   "execution_count": 3,
   "metadata": {},
   "outputs": [
    {
     "data": {
      "text/plain": [
       "['/job:localhost/replica:0/task:0/device:GPU:0']"
      ]
     },
     "execution_count": 3,
     "metadata": {},
     "output_type": "execute_result"
    }
   ],
   "source": [
    "# We are using tensorflow-gpu so its best to test if its working\n",
    "from keras import backend as K\n",
    "K.tensorflow_backend._get_available_gpus()"
   ]
  },
  {
   "cell_type": "code",
   "execution_count": 4,
   "metadata": {},
   "outputs": [],
   "source": [
    "#Load the MNIST dataset.\n",
    "(X, y), (X_test,y_test) = mnist.load_data()"
   ]
  },
  {
   "cell_type": "markdown",
   "metadata": {},
   "source": [
    "# Define HyperParameters and Initialize them"
   ]
  },
  {
   "cell_type": "code",
   "execution_count": 5,
   "metadata": {},
   "outputs": [],
   "source": [
    "#We will need to tune this hyperparameter for best result. \n",
    "num_classes = 10\n",
    "epochs = 10\n",
    "batch_size = 128"
   ]
  },
  {
   "cell_type": "markdown",
   "metadata": {},
   "source": [
    "# Preprocess the training data\n",
    "\n",
    "## Reshape\n",
    "Intialize height and width of the image. In case of MNIST data its 28x28\n",
    "\n",
    "Reshape the MNIST data into 4D tensor (no_of_sample, width, height, channels)\n",
    "\n",
    "MNIST image is in grayscale so channels will be 1 in our case.\n",
    "\n",
    "## Convert the data into right type\n",
    "\n",
    "Convert the data into float.\n",
    "\n",
    "Divide it by 255 to normalize. Since color ranges from 0 to 255. \n"
   ]
  },
  {
   "cell_type": "code",
   "execution_count": 6,
   "metadata": {},
   "outputs": [
    {
     "name": "stdout",
     "output_type": "stream",
     "text": [
      "x_train shape: (60000, 28, 28, 1)\n",
      "60000 train samples\n",
      "10000 test samples\n",
      "(60000,) output shape\n"
     ]
    }
   ],
   "source": [
    "#Initialize variable\n",
    "width = 28\n",
    "height = 28\n",
    "no_channel = 1\n",
    "input_shape = (width,height,no_channel)\n",
    "\n",
    "#Reshape input\n",
    "X = X.reshape(X.shape[0],width,height,no_channel)\n",
    "X_test = X_test.reshape(X_test.shape[0],width,height,no_channel)\n",
    "\n",
    "#Convert to float\n",
    "X = X.astype('float32')\n",
    "X_test = X_test.astype('float32')\n",
    "                         \n",
    "#Normalize\n",
    "X = X/255\n",
    "X_test = X_test/255   \n",
    "\n",
    "print('x_train shape:', X.shape)\n",
    "print(X.shape[0], 'train samples')\n",
    "print(X_test.shape[0], 'test samples')\n",
    "print(y.shape, 'output shape')"
   ]
  },
  {
   "cell_type": "markdown",
   "metadata": {},
   "source": [
    "# Convert Output to one hot vector.\n",
    "\n",
    "For example 3 would be represented by 1 at 3rd index of ten zeros where 1st one reperesent 0 and last 9. \n",
    "\n",
    "0001000000"
   ]
  },
  {
   "cell_type": "code",
   "execution_count": 7,
   "metadata": {},
   "outputs": [
    {
     "name": "stdout",
     "output_type": "stream",
     "text": [
      "(60000, 10) output shape\n"
     ]
    }
   ],
   "source": [
    "y = keras.utils.to_categorical(y,num_classes=10)\n",
    "y_test = keras.utils.to_categorical(y_test,num_classes=10)\n",
    "print(y.shape,'output shape')"
   ]
  },
  {
   "cell_type": "markdown",
   "metadata": {},
   "source": [
    "# Define Keras Model and stack the layers \n",
    "\n",
    "<img src=\"https://github.com/AmitDeo/DeepLearning/raw/master/cnn/files/conv_unit.jpg\">\n",
    "\n",
    "This will have Conv Layer followed with relu activation. MaxPooling will be applied after that to subsample. \n"
   ]
  },
  {
   "cell_type": "code",
   "execution_count": 8,
   "metadata": {},
   "outputs": [],
   "source": [
    "#Define model\n",
    "model = Sequential()\n",
    "\n",
    "#Layer1 = Conv + relu + maxpooling\n",
    "model.add(Conv2D(filters=32,kernel_size=(5,5),strides=(1,1),padding='same',activation='relu',input_shape=input_shape))\n",
    "model.add(MaxPooling2D(pool_size=(2,2)))\n",
    "\n",
    "#Layer2 = Conv + relu + maxpooling\n",
    "model.add(Conv2D(filters=64,kernel_size=(5,5),strides=(1,1),padding='same',activation='relu'))\n",
    "model.add(MaxPooling2D(pool_size=(2,2)))\n",
    "\n",
    "#Flatten\n",
    "model.add(Flatten())\n",
    "\n",
    "#Layer Fully connected\n",
    "model.add(Dense(units=1000,activation='relu'))\n",
    "model.add(Dense(units=num_classes,activation='softmax'))\n",
    "\n",
    "#Compile model\n",
    "model.compile(optimizer=keras.optimizers.Adam(),\n",
    "              loss=keras.losses.categorical_crossentropy, \n",
    "              metrics=['accuracy'])"
   ]
  },
  {
   "cell_type": "markdown",
   "metadata": {},
   "source": [
    "# Optional class for saving accuracy history\n",
    "\n",
    "We will need the accuracy at each epoch to plot the graph"
   ]
  },
  {
   "cell_type": "code",
   "execution_count": 9,
   "metadata": {},
   "outputs": [],
   "source": [
    "class AccuracyHistory(keras.callbacks.Callback):\n",
    "    def on_train_begin(self, logs={}):\n",
    "        self.acc = []\n",
    "\n",
    "    def on_epoch_end(self, batch, logs={}):\n",
    "        self.acc.append(logs.get('acc'))\n",
    "\n",
    "history = AccuracyHistory()        "
   ]
  },
  {
   "cell_type": "markdown",
   "metadata": {},
   "source": [
    "# Train the model"
   ]
  },
  {
   "cell_type": "code",
   "execution_count": 11,
   "metadata": {},
   "outputs": [
    {
     "name": "stdout",
     "output_type": "stream",
     "text": [
      "Train on 60000 samples, validate on 10000 samples\n",
      "Epoch 1/10\n",
      "60000/60000 [==============================] - 64s 1ms/step - loss: 0.1386 - acc: 0.9584 - val_loss: 0.0398 - val_acc: 0.9869\n",
      "Epoch 2/10\n",
      "60000/60000 [==============================] - 57s 948us/step - loss: 0.0391 - acc: 0.9882 - val_loss: 0.0333 - val_acc: 0.9892\n",
      "Epoch 3/10\n",
      "60000/60000 [==============================] - 56s 941us/step - loss: 0.0247 - acc: 0.9920 - val_loss: 0.0276 - val_acc: 0.9910\n",
      "Epoch 4/10\n",
      "60000/60000 [==============================] - 56s 930us/step - loss: 0.0174 - acc: 0.9939 - val_loss: 0.0254 - val_acc: 0.9924\n",
      "Epoch 5/10\n",
      "60000/60000 [==============================] - 56s 929us/step - loss: 0.0142 - acc: 0.9953 - val_loss: 0.0231 - val_acc: 0.9916\n",
      "Epoch 6/10\n",
      "60000/60000 [==============================] - 57s 950us/step - loss: 0.0097 - acc: 0.9968 - val_loss: 0.0220 - val_acc: 0.9930\n",
      "Epoch 7/10\n",
      "60000/60000 [==============================] - 57s 949us/step - loss: 0.0080 - acc: 0.9973 - val_loss: 0.0290 - val_acc: 0.9907\n",
      "Epoch 8/10\n",
      "60000/60000 [==============================] - 57s 945us/step - loss: 0.0075 - acc: 0.9976 - val_loss: 0.0302 - val_acc: 0.9916\n",
      "Epoch 9/10\n",
      "60000/60000 [==============================] - 57s 946us/step - loss: 0.0084 - acc: 0.9972 - val_loss: 0.0382 - val_acc: 0.9905\n",
      "Epoch 10/10\n",
      "60000/60000 [==============================] - 57s 949us/step - loss: 0.0082 - acc: 0.9974 - val_loss: 0.0195 - val_acc: 0.9939\n"
     ]
    },
    {
     "data": {
      "text/plain": [
       "<keras.callbacks.History at 0x7ff350174e10>"
      ]
     },
     "execution_count": 11,
     "metadata": {},
     "output_type": "execute_result"
    }
   ],
   "source": [
    "model.fit(x=X,\n",
    "          y=y,\n",
    "          batch_size=batch_size,\n",
    "          epochs=10,\n",
    "          verbose=1,\n",
    "          validation_data=(X_test,y_test), \n",
    "          callbacks=[history])"
   ]
  },
  {
   "cell_type": "markdown",
   "metadata": {},
   "source": [
    "# Model Evaluation"
   ]
  },
  {
   "cell_type": "code",
   "execution_count": 12,
   "metadata": {},
   "outputs": [
    {
     "name": "stdout",
     "output_type": "stream",
     "text": [
      "10000/10000 [==============================] - 4s 369us/step\n",
      "Test loss: 0.019496263597800406\n",
      "Test accuracy: 0.9939\n"
     ]
    }
   ],
   "source": [
    "testScore = model.evaluate(x=X_test,y=y_test,verbose=1)\n",
    "print('Test loss:', testScore[0])\n",
    "print('Test accuracy:', testScore[1])"
   ]
  },
  {
   "cell_type": "markdown",
   "metadata": {},
   "source": [
    "# Plot epoch vs accuracy."
   ]
  },
  {
   "cell_type": "code",
   "execution_count": 13,
   "metadata": {},
   "outputs": [
    {
     "data": {
      "text/plain": [
       "Text(0,0.5,'Accuracy')"
      ]
     },
     "execution_count": 13,
     "metadata": {},
     "output_type": "execute_result"
    },
    {
     "data": {
      "image/png": "[encoded data removed]",
      "text/plain": [
       "<matplotlib.figure.Figure at 0x7ff2fb2ba860>"
      ]
     },
     "metadata": {},
     "output_type": "display_data"
    }
   ],
   "source": [
    "plt.plot(range(1,11),history.acc)\n",
    "plt.xlabel('Epochs')\n",
    "plt.ylabel('Accuracy')"
   ]
  }
 ],
 "metadata": {
  "kernelspec": {
   "display_name": "Python 3",
   "language": "python",
   "name": "python3"
  },
  "language_info": {
   "codemirror_mode": {
    "name": "ipython",
    "version": 3
   },
   "file_extension": ".py",
   "mimetype": "text/x-python",
   "name": "python",
   "nbconvert_exporter": "python",
   "pygments_lexer": "ipython3",
   "version": "3.6.4"
  }
 },
 "nbformat": 4,
 "nbformat_minor": 2
}
