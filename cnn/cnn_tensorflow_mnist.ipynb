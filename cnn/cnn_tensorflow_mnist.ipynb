{
 "cells": [
  {
   "cell_type": "markdown",
   "metadata": {},
   "source": [
    "# Import Library and Load MNIST Data"
   ]
  },
  {
   "cell_type": "code",
   "execution_count": 1,
   "metadata": {},
   "outputs": [
    {
     "name": "stderr",
     "output_type": "stream",
     "text": [
      "/home/amit/anaconda3/lib/python3.6/site-packages/h5py/__init__.py:36: FutureWarning: Conversion of the second argument of issubdtype from `float` to `np.floating` is deprecated. In future, it will be treated as `np.float64 == np.dtype(float).type`.\n",
      "  from ._conv import register_converters as _register_converters\n"
     ]
    }
   ],
   "source": [
    "import tensorflow as tf\n",
    "from tensorflow.examples.tutorials.mnist import input_data"
   ]
  },
  {
   "cell_type": "code",
   "execution_count": 2,
   "metadata": {},
   "outputs": [
    {
     "name": "stdout",
     "output_type": "stream",
     "text": [
      "WARNING:tensorflow:From <ipython-input-2-a839aeb82f4b>:1: read_data_sets (from tensorflow.contrib.learn.python.learn.datasets.mnist) is deprecated and will be removed in a future version.\n",
      "Instructions for updating:\n",
      "Please use alternatives such as official/mnist/dataset.py from tensorflow/models.\n",
      "WARNING:tensorflow:From /home/amit/anaconda3/lib/python3.6/site-packages/tensorflow/contrib/learn/python/learn/datasets/mnist.py:260: maybe_download (from tensorflow.contrib.learn.python.learn.datasets.base) is deprecated and will be removed in a future version.\n",
      "Instructions for updating:\n",
      "Please write your own downloading logic.\n",
      "WARNING:tensorflow:From /home/amit/anaconda3/lib/python3.6/site-packages/tensorflow/contrib/learn/python/learn/datasets/mnist.py:262: extract_images (from tensorflow.contrib.learn.python.learn.datasets.mnist) is deprecated and will be removed in a future version.\n",
      "Instructions for updating:\n",
      "Please use tf.data to implement this functionality.\n",
      "Extracting MNIST_data/train-images-idx3-ubyte.gz\n",
      "WARNING:tensorflow:From /home/amit/anaconda3/lib/python3.6/site-packages/tensorflow/contrib/learn/python/learn/datasets/mnist.py:267: extract_labels (from tensorflow.contrib.learn.python.learn.datasets.mnist) is deprecated and will be removed in a future version.\n",
      "Instructions for updating:\n",
      "Please use tf.data to implement this functionality.\n",
      "Extracting MNIST_data/train-labels-idx1-ubyte.gz\n",
      "WARNING:tensorflow:From /home/amit/anaconda3/lib/python3.6/site-packages/tensorflow/contrib/learn/python/learn/datasets/mnist.py:110: dense_to_one_hot (from tensorflow.contrib.learn.python.learn.datasets.mnist) is deprecated and will be removed in a future version.\n",
      "Instructions for updating:\n",
      "Please use tf.one_hot on tensors.\n",
      "Extracting MNIST_data/t10k-images-idx3-ubyte.gz\n",
      "Extracting MNIST_data/t10k-labels-idx1-ubyte.gz\n",
      "WARNING:tensorflow:From /home/amit/anaconda3/lib/python3.6/site-packages/tensorflow/contrib/learn/python/learn/datasets/mnist.py:290: DataSet.__init__ (from tensorflow.contrib.learn.python.learn.datasets.mnist) is deprecated and will be removed in a future version.\n",
      "Instructions for updating:\n",
      "Please use alternatives such as official/mnist/dataset.py from tensorflow/models.\n"
     ]
    }
   ],
   "source": [
    "mnist = input_data.read_data_sets(\"MNIST_data/\", one_hot=True)"
   ]
  },
  {
   "cell_type": "code",
   "execution_count": null,
   "metadata": {},
   "outputs": [],
   "source": []
  },
  {
   "cell_type": "markdown",
   "metadata": {},
   "source": [
    "# Define HyperParameters and Initialize them"
   ]
  },
  {
   "cell_type": "code",
   "execution_count": 3,
   "metadata": {},
   "outputs": [],
   "source": [
    "learning_rate = 0.0001\n",
    "epochs = 10\n",
    "batch_size = 50"
   ]
  },
  {
   "cell_type": "markdown",
   "metadata": {},
   "source": [
    "# Declare the training data placeholders\n",
    "\n",
    "Input x - for 28 x 28 pixels = 784 - this is the flattened image data that we get from mnist.\n",
    "\n",
    "We will need to reshape the the data into no_of_training_samples x width x height x channels."
   ]
  },
  {
   "cell_type": "code",
   "execution_count": 4,
   "metadata": {},
   "outputs": [],
   "source": [
    "x = tf.placeholder(tf.float32,shape=[None,784])\n",
    "# Channel is 1 since mnist data is in grayscale\n",
    "x_reshaped = tf.reshape(x,shape=[-1,28,28,1])\n",
    "y = tf.placeholder(tf.float32,shape=[None,10])"
   ]
  },
  {
   "cell_type": "markdown",
   "metadata": {},
   "source": [
    "# Define function that will return the Conv Layer Unit. \n",
    "\n",
    "<img src=\"files/conv_unit.jpg\">\n",
    "\n",
    "This will have Conv Layer followed with relu activation. MaxPooling will be applied after that to subsample. \n"
   ]
  },
  {
   "cell_type": "code",
   "execution_count": 13,
   "metadata": {},
   "outputs": [],
   "source": [
    "def conv_layer_unit(input_data, num_input_channels, num_filters, filter_shape, pool_shape, name):\n",
    "    \n",
    "    #The format that the conv2d() function receives for the filter is: [filter_height, filter_width, in_channels, out_channels]\n",
    "    weight_shape = [filter_shape[0], filter_shape[1], num_input_channels, num_filters]\n",
    "    #Initialize weight and shape for the inputs\n",
    "    weights = tf.Variable(tf.truncated_normal(weight_shape,stddev=0.03), name=name+'_W')\n",
    "    bias = tf.Variable(tf.truncated_normal([num_filters]),name=name+'_b')\n",
    "    \n",
    "    #Setup the convolutional Layer. Note first and last should be 1 and between 2 are x and y stride\n",
    "    stride = [1,1,1,1]\n",
    "    outlayer = tf.nn.conv2d(input=input_data,filter=weights,strides=stride,padding='SAME')\n",
    "    \n",
    "    #Add the bias\n",
    "    outlayer += bias\n",
    "    \n",
    "    #Apply the relu\n",
    "    outlayer = tf.nn.relu(outlayer)\n",
    "    \n",
    "    #Apply the maxpooling\n",
    "    ksize = [1, pool_shape[0],pool_shape[1],1]\n",
    "    #Stride of 2 to downsample\n",
    "    stride = [1,2,2,1]\n",
    "    outlayer = tf.nn.max_pool(outlayer,ksize=ksize,strides=stride,padding='SAME')\n",
    "    \n",
    "    #return the layer unit\n",
    "    return outlayer"
   ]
  },
  {
   "cell_type": "markdown",
   "metadata": {},
   "source": [
    "# Create Convolutional Layers"
   ]
  },
  {
   "cell_type": "code",
   "execution_count": 14,
   "metadata": {},
   "outputs": [],
   "source": [
    "layer1 = conv_layer_unit(input_data=x_reshaped,num_input_channels=1,num_filters=32,filter_shape=[5,5],pool_shape=[2,2],name='layer1')\n",
    "layer2 = conv_layer_unit(input_data=layer1,num_input_channels=32,num_filters=64,filter_shape=[5,5],pool_shape=[2,2],name='layer2')"
   ]
  },
  {
   "cell_type": "markdown",
   "metadata": {},
   "source": [
    "# The fully connected layer\n",
    "\n",
    "we have to flatten out the output from the final convolutional layer.  It is now a 7×7 grid of nodes with 64 channels, which equates to 3136 nodes per training sample.  We can use tf.reshape() to do what we need:\n",
    "\n",
    "***Note: Please see the network image for correct shapes***\n"
   ]
  },
  {
   "cell_type": "code",
   "execution_count": 15,
   "metadata": {},
   "outputs": [],
   "source": [
    "# Fully Connected Layer 1\n",
    "\n",
    "fc = tf.reshape(layer2,shape=[-1,7*7*64])\n",
    "wd1 = tf.Variable(tf.truncated_normal([7*7*64,1000],stddev=0.03), name='fc_wd1')\n",
    "bd1 = tf.Variable(tf.truncated_normal([1000]), name='fc_bd1')\n",
    "fc_layer1 = tf.matmul(fc,wd1) + bd1\n",
    "fc_layer1 = tf.nn.relu(fc_layer1)"
   ]
  },
  {
   "cell_type": "code",
   "execution_count": 16,
   "metadata": {},
   "outputs": [],
   "source": [
    "# Fully Connected Layer 2\n",
    "\n",
    "wd2 = tf.Variable(tf.truncated_normal([1000,10],stddev=0.03), name='fc_wd2')\n",
    "bd2 = tf.Variable(tf.truncated_normal([10]), name='fc_bd2')\n",
    "fc_layer2 = tf.matmul(fc_layer1,wd2) + bd2\n",
    "y_ = tf.nn.softmax(fc_layer2)"
   ]
  },
  {
   "cell_type": "markdown",
   "metadata": {},
   "source": [
    "# The cross-entropy cost function\n",
    "\n",
    "TensorFlow provides a handy function which applies soft-max followed by cross-entropy loss:"
   ]
  },
  {
   "cell_type": "code",
   "execution_count": 17,
   "metadata": {},
   "outputs": [],
   "source": [
    "cross_entropy = tf.reduce_mean(tf.nn.softmax_cross_entropy_with_logits(logits=y_,labels=y))"
   ]
  },
  {
   "cell_type": "markdown",
   "metadata": {},
   "source": [
    "# Trainer"
   ]
  },
  {
   "cell_type": "code",
   "execution_count": 18,
   "metadata": {},
   "outputs": [
    {
     "name": "stdout",
     "output_type": "stream",
     "text": [
      "Epoch: 1 cost = 1.854  test accuracy: 0.745\n",
      "Epoch: 2 cost = 1.634  test accuracy: 0.867\n",
      "Epoch: 3 cost = 1.595  test accuracy: 0.904\n",
      "Epoch: 4 cost = 1.500  test accuracy: 0.974\n",
      "Epoch: 5 cost = 1.490  test accuracy: 0.979\n",
      "Epoch: 6 cost = 1.485  test accuracy: 0.979\n",
      "Epoch: 7 cost = 1.482  test accuracy: 0.975\n",
      "Epoch: 8 cost = 1.479  test accuracy: 0.984\n",
      "Epoch: 9 cost = 1.478  test accuracy: 0.987\n",
      "Epoch: 10 cost = 1.476  test accuracy: 0.987\n",
      "\n",
      "Training complete!\n",
      "0.987\n"
     ]
    }
   ],
   "source": [
    "optimiser = tf.train.AdamOptimizer(learning_rate=learning_rate).minimize(cross_entropy)\n",
    "correct_prediction = tf.equal(tf.argmax(y,1),tf.argmax(y_,1))\n",
    "accuracy = tf.reduce_mean(tf.cast(correct_prediction,tf.float32))\n",
    "\n",
    "# setup the initialisation operator\n",
    "\n",
    "init_op = tf.global_variables_initializer()\n",
    "\n",
    "with tf.Session(config=tf.ConfigProto(log_device_placement=False)) as sess:\n",
    "    sess.run(init_op)\n",
    "    total_batch = int(len(mnist.train.labels) / batch_size)\n",
    "    for epoch in range(epochs):\n",
    "        avg_cost = 0\n",
    "        for i in range(total_batch):\n",
    "            batch_x, batch_y = mnist.train.next_batch(batch_size=batch_size)\n",
    "            _, cost = sess.run([optimiser, cross_entropy],feed_dict={x: batch_x, y: batch_y})\n",
    "            avg_cost += cost/total_batch\n",
    "        test_acc = sess.run(accuracy, feed_dict={x: mnist.test.images, y: mnist.test.labels})\n",
    "        print(\"Epoch:\", (epoch + 1), \"cost =\", \"{:.3f}\".format(avg_cost), \" test accuracy: {:.3f}\".format(test_acc))\n",
    "    \n",
    "    print(\"\\nTraining complete!\")\n",
    "    print(sess.run(accuracy, feed_dict={x: mnist.test.images, y: mnist.test.labels}))"
   ]
  },
  {
   "cell_type": "code",
   "execution_count": null,
   "metadata": {},
   "outputs": [],
   "source": []
  },
  {
   "cell_type": "code",
   "execution_count": null,
   "metadata": {},
   "outputs": [],
   "source": []
  }
 ],
 "metadata": {
  "kernelspec": {
   "display_name": "Python 3",
   "language": "python",
   "name": "python3"
  },
  "language_info": {
   "codemirror_mode": {
    "name": "ipython",
    "version": 3
   },
   "file_extension": ".py",
   "mimetype": "text/x-python",
   "name": "python",
   "nbconvert_exporter": "python",
   "pygments_lexer": "ipython3",
   "version": "3.6.4"
  }
 },
 "nbformat": 4,
 "nbformat_minor": 2
}
